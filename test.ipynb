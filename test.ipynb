{
 "cells": [
  {
   "cell_type": "code",
   "execution_count": 1,
   "metadata": {},
   "outputs": [],
   "source": [
    "import polars as pl\n",
    "\n",
    "HS_DATA_PATH = \"data/hospitals.csv\"\n",
    "\n",
    "data_hospitals = pl.read_csv(HS_DATA_PATH)"
   ]
  },
  {
   "cell_type": "code",
   "execution_count": 2,
   "metadata": {},
   "outputs": [
    {
     "data": {
      "text/plain": [
       "(30, 3)"
      ]
     },
     "execution_count": 2,
     "metadata": {},
     "output_type": "execute_result"
    }
   ],
   "source": [
    "data_hospitals.shape"
   ]
  },
  {
   "cell_type": "code",
   "execution_count": 3,
   "metadata": {},
   "outputs": [
    {
     "data": {
      "text/html": [
       "<div><style>\n",
       ".dataframe > thead > tr,\n",
       ".dataframe > tbody > tr {\n",
       "  text-align: right;\n",
       "  white-space: pre-wrap;\n",
       "}\n",
       "</style>\n",
       "<small>shape: (5, 3)</small><table border=\"1\" class=\"dataframe\"><thead><tr><th>hospital_id</th><th>hospital_name</th><th>hospital_state</th></tr><tr><td>i64</td><td>str</td><td>str</td></tr></thead><tbody><tr><td>0</td><td>&quot;Wallace-Hamilton&quot;</td><td>&quot;CO&quot;</td></tr><tr><td>1</td><td>&quot;Burke, Griffin and Cooper&quot;</td><td>&quot;NC&quot;</td></tr><tr><td>2</td><td>&quot;Walton LLC&quot;</td><td>&quot;FL&quot;</td></tr><tr><td>3</td><td>&quot;Garcia Ltd&quot;</td><td>&quot;NC&quot;</td></tr><tr><td>4</td><td>&quot;Jones, Brown and Murray&quot;</td><td>&quot;NC&quot;</td></tr></tbody></table></div>"
      ],
      "text/plain": [
       "shape: (5, 3)\n",
       "┌─────────────┬───────────────────────────┬────────────────┐\n",
       "│ hospital_id ┆ hospital_name             ┆ hospital_state │\n",
       "│ ---         ┆ ---                       ┆ ---            │\n",
       "│ i64         ┆ str                       ┆ str            │\n",
       "╞═════════════╪═══════════════════════════╪════════════════╡\n",
       "│ 0           ┆ Wallace-Hamilton          ┆ CO             │\n",
       "│ 1           ┆ Burke, Griffin and Cooper ┆ NC             │\n",
       "│ 2           ┆ Walton LLC                ┆ FL             │\n",
       "│ 3           ┆ Garcia Ltd                ┆ NC             │\n",
       "│ 4           ┆ Jones, Brown and Murray   ┆ NC             │\n",
       "└─────────────┴───────────────────────────┴────────────────┘"
      ]
     },
     "execution_count": 3,
     "metadata": {},
     "output_type": "execute_result"
    }
   ],
   "source": [
    "data_hospitals.head()"
   ]
  },
  {
   "cell_type": "code",
   "execution_count": null,
   "metadata": {},
   "outputs": [],
   "source": []
  }
 ],
 "metadata": {
  "kernelspec": {
   "display_name": "RAG_GRAPH",
   "language": "python",
   "name": "python3"
  },
  "language_info": {
   "codemirror_mode": {
    "name": "ipython",
    "version": 3
   },
   "file_extension": ".py",
   "mimetype": "text/x-python",
   "name": "python",
   "nbconvert_exporter": "python",
   "pygments_lexer": "ipython3",
   "version": "3.10.16"
  }
 },
 "nbformat": 4,
 "nbformat_minor": 2
}
